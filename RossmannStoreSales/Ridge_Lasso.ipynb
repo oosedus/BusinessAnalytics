{
 "cells": [
  {
   "cell_type": "code",
   "execution_count": 190,
   "id": "a12962fd",
   "metadata": {},
   "outputs": [],
   "source": [
    "import numpy as np\n",
    "import pandas as pd"
   ]
  },
  {
   "cell_type": "code",
   "execution_count": 289,
   "id": "eb688bb2",
   "metadata": {},
   "outputs": [],
   "source": [
    "store = pd.read_csv(\"store.csv\")"
   ]
  },
  {
   "cell_type": "code",
   "execution_count": 292,
   "id": "59398cfe",
   "metadata": {
    "scrolled": true
   },
   "outputs": [
    {
     "name": "stderr",
     "output_type": "stream",
     "text": [
      "C:\\Users\\oosedus\\AppData\\Local\\Temp\\ipykernel_21328\\2818400781.py:1: DtypeWarning: Columns (7) have mixed types. Specify dtype option on import or set low_memory=False.\n",
      "  _train = pd.read_csv(\"train.csv\")\n"
     ]
    }
   ],
   "source": [
    "_train = pd.read_csv(\"train.csv\")"
   ]
  },
  {
   "cell_type": "code",
   "execution_count": 411,
   "id": "5b92f35e",
   "metadata": {},
   "outputs": [],
   "source": [
    "train_original = _train.merge(store, on=['Store'])"
   ]
  },
  {
   "cell_type": "code",
   "execution_count": 412,
   "id": "1912d36c",
   "metadata": {
    "scrolled": true
   },
   "outputs": [
    {
     "name": "stdout",
     "output_type": "stream",
     "text": [
      "<class 'pandas.core.frame.DataFrame'>\n",
      "Int64Index: 1017209 entries, 0 to 1017208\n",
      "Data columns (total 18 columns):\n",
      " #   Column                     Non-Null Count    Dtype  \n",
      "---  ------                     --------------    -----  \n",
      " 0   Store                      1017209 non-null  int64  \n",
      " 1   DayOfWeek                  1017209 non-null  int64  \n",
      " 2   Date                       1017209 non-null  object \n",
      " 3   Sales                      1017209 non-null  int64  \n",
      " 4   Customers                  1017209 non-null  int64  \n",
      " 5   Open                       1017209 non-null  int64  \n",
      " 6   Promo                      1017209 non-null  int64  \n",
      " 7   StateHoliday               1017209 non-null  object \n",
      " 8   SchoolHoliday              1017209 non-null  int64  \n",
      " 9   StoreType                  1017209 non-null  object \n",
      " 10  Assortment                 1017209 non-null  object \n",
      " 11  CompetitionDistance        1014567 non-null  float64\n",
      " 12  CompetitionOpenSinceMonth  693861 non-null   float64\n",
      " 13  CompetitionOpenSinceYear   693861 non-null   float64\n",
      " 14  Promo2                     1017209 non-null  int64  \n",
      " 15  Promo2SinceWeek            509178 non-null   float64\n",
      " 16  Promo2SinceYear            509178 non-null   float64\n",
      " 17  PromoInterval              509178 non-null   object \n",
      "dtypes: float64(5), int64(8), object(5)\n",
      "memory usage: 147.5+ MB\n"
     ]
    }
   ],
   "source": [
    "train_original.info()"
   ]
  },
  {
   "cell_type": "code",
   "execution_count": 414,
   "id": "19fba7a7",
   "metadata": {},
   "outputs": [
    {
     "data": {
      "text/html": [
       "<div>\n",
       "<style scoped>\n",
       "    .dataframe tbody tr th:only-of-type {\n",
       "        vertical-align: middle;\n",
       "    }\n",
       "\n",
       "    .dataframe tbody tr th {\n",
       "        vertical-align: top;\n",
       "    }\n",
       "\n",
       "    .dataframe thead th {\n",
       "        text-align: right;\n",
       "    }\n",
       "</style>\n",
       "<table border=\"1\" class=\"dataframe\">\n",
       "  <thead>\n",
       "    <tr style=\"text-align: right;\">\n",
       "      <th></th>\n",
       "      <th>Store</th>\n",
       "      <th>DayOfWeek</th>\n",
       "      <th>Date</th>\n",
       "      <th>Sales</th>\n",
       "      <th>Customers</th>\n",
       "      <th>Open</th>\n",
       "      <th>Promo</th>\n",
       "      <th>StateHoliday</th>\n",
       "      <th>SchoolHoliday</th>\n",
       "      <th>StoreType</th>\n",
       "      <th>Assortment</th>\n",
       "      <th>CompetitionDistance</th>\n",
       "      <th>CompetitionOpenSinceMonth</th>\n",
       "      <th>CompetitionOpenSinceYear</th>\n",
       "      <th>Promo2</th>\n",
       "      <th>Promo2SinceWeek</th>\n",
       "      <th>Promo2SinceYear</th>\n",
       "      <th>PromoInterval</th>\n",
       "    </tr>\n",
       "  </thead>\n",
       "  <tbody>\n",
       "    <tr>\n",
       "      <th>5</th>\n",
       "      <td>1</td>\n",
       "      <td>7</td>\n",
       "      <td>2015-07-26</td>\n",
       "      <td>0</td>\n",
       "      <td>0</td>\n",
       "      <td>0</td>\n",
       "      <td>0</td>\n",
       "      <td>0</td>\n",
       "      <td>0</td>\n",
       "      <td>c</td>\n",
       "      <td>a</td>\n",
       "      <td>1270.0</td>\n",
       "      <td>9.0</td>\n",
       "      <td>2008.0</td>\n",
       "      <td>0</td>\n",
       "      <td>NaN</td>\n",
       "      <td>NaN</td>\n",
       "      <td>NaN</td>\n",
       "    </tr>\n",
       "    <tr>\n",
       "      <th>12</th>\n",
       "      <td>1</td>\n",
       "      <td>7</td>\n",
       "      <td>2015-07-19</td>\n",
       "      <td>0</td>\n",
       "      <td>0</td>\n",
       "      <td>0</td>\n",
       "      <td>0</td>\n",
       "      <td>0</td>\n",
       "      <td>0</td>\n",
       "      <td>c</td>\n",
       "      <td>a</td>\n",
       "      <td>1270.0</td>\n",
       "      <td>9.0</td>\n",
       "      <td>2008.0</td>\n",
       "      <td>0</td>\n",
       "      <td>NaN</td>\n",
       "      <td>NaN</td>\n",
       "      <td>NaN</td>\n",
       "    </tr>\n",
       "    <tr>\n",
       "      <th>19</th>\n",
       "      <td>1</td>\n",
       "      <td>7</td>\n",
       "      <td>2015-07-12</td>\n",
       "      <td>0</td>\n",
       "      <td>0</td>\n",
       "      <td>0</td>\n",
       "      <td>0</td>\n",
       "      <td>0</td>\n",
       "      <td>0</td>\n",
       "      <td>c</td>\n",
       "      <td>a</td>\n",
       "      <td>1270.0</td>\n",
       "      <td>9.0</td>\n",
       "      <td>2008.0</td>\n",
       "      <td>0</td>\n",
       "      <td>NaN</td>\n",
       "      <td>NaN</td>\n",
       "      <td>NaN</td>\n",
       "    </tr>\n",
       "    <tr>\n",
       "      <th>26</th>\n",
       "      <td>1</td>\n",
       "      <td>7</td>\n",
       "      <td>2015-07-05</td>\n",
       "      <td>0</td>\n",
       "      <td>0</td>\n",
       "      <td>0</td>\n",
       "      <td>0</td>\n",
       "      <td>0</td>\n",
       "      <td>0</td>\n",
       "      <td>c</td>\n",
       "      <td>a</td>\n",
       "      <td>1270.0</td>\n",
       "      <td>9.0</td>\n",
       "      <td>2008.0</td>\n",
       "      <td>0</td>\n",
       "      <td>NaN</td>\n",
       "      <td>NaN</td>\n",
       "      <td>NaN</td>\n",
       "    </tr>\n",
       "    <tr>\n",
       "      <th>33</th>\n",
       "      <td>1</td>\n",
       "      <td>7</td>\n",
       "      <td>2015-06-28</td>\n",
       "      <td>0</td>\n",
       "      <td>0</td>\n",
       "      <td>0</td>\n",
       "      <td>0</td>\n",
       "      <td>0</td>\n",
       "      <td>0</td>\n",
       "      <td>c</td>\n",
       "      <td>a</td>\n",
       "      <td>1270.0</td>\n",
       "      <td>9.0</td>\n",
       "      <td>2008.0</td>\n",
       "      <td>0</td>\n",
       "      <td>NaN</td>\n",
       "      <td>NaN</td>\n",
       "      <td>NaN</td>\n",
       "    </tr>\n",
       "  </tbody>\n",
       "</table>\n",
       "</div>"
      ],
      "text/plain": [
       "    Store  DayOfWeek        Date  Sales  Customers  Open  Promo StateHoliday  \\\n",
       "5       1          7  2015-07-26      0          0     0      0            0   \n",
       "12      1          7  2015-07-19      0          0     0      0            0   \n",
       "19      1          7  2015-07-12      0          0     0      0            0   \n",
       "26      1          7  2015-07-05      0          0     0      0            0   \n",
       "33      1          7  2015-06-28      0          0     0      0            0   \n",
       "\n",
       "    SchoolHoliday StoreType Assortment  CompetitionDistance  \\\n",
       "5               0         c          a               1270.0   \n",
       "12              0         c          a               1270.0   \n",
       "19              0         c          a               1270.0   \n",
       "26              0         c          a               1270.0   \n",
       "33              0         c          a               1270.0   \n",
       "\n",
       "    CompetitionOpenSinceMonth  CompetitionOpenSinceYear  Promo2  \\\n",
       "5                         9.0                    2008.0       0   \n",
       "12                        9.0                    2008.0       0   \n",
       "19                        9.0                    2008.0       0   \n",
       "26                        9.0                    2008.0       0   \n",
       "33                        9.0                    2008.0       0   \n",
       "\n",
       "    Promo2SinceWeek  Promo2SinceYear PromoInterval  \n",
       "5               NaN              NaN           NaN  \n",
       "12              NaN              NaN           NaN  \n",
       "19              NaN              NaN           NaN  \n",
       "26              NaN              NaN           NaN  \n",
       "33              NaN              NaN           NaN  "
      ]
     },
     "execution_count": 414,
     "metadata": {},
     "output_type": "execute_result"
    }
   ],
   "source": [
    "# Closed days are excluded as there is no sales.\n",
    "closed_stores_df = train_original[train_original['Open'] == 0]\n",
    "closed_stores_df.head()"
   ]
  },
  {
   "cell_type": "code",
   "execution_count": 428,
   "id": "d966152a",
   "metadata": {},
   "outputs": [
    {
     "name": "stdout",
     "output_type": "stream",
     "text": [
      "<class 'pandas.core.frame.DataFrame'>\n",
      "Int64Index: 844392 entries, 0 to 1017207\n",
      "Data columns (total 21 columns):\n",
      " #   Column                     Non-Null Count   Dtype         \n",
      "---  ------                     --------------   -----         \n",
      " 0   Store                      844392 non-null  int64         \n",
      " 1   DayOfWeek                  844392 non-null  int64         \n",
      " 2   Date                       844392 non-null  datetime64[ns]\n",
      " 3   Sales                      844392 non-null  int64         \n",
      " 4   Customers                  844392 non-null  int64         \n",
      " 5   Open                       844392 non-null  int64         \n",
      " 6   Promo                      844392 non-null  int64         \n",
      " 7   StateHoliday               844392 non-null  int64         \n",
      " 8   SchoolHoliday              844392 non-null  int64         \n",
      " 9   StoreType                  844392 non-null  object        \n",
      " 10  Assortment                 844392 non-null  object        \n",
      " 11  CompetitionDistance        842206 non-null  float64       \n",
      " 12  CompetitionOpenSinceMonth  844392 non-null  float64       \n",
      " 13  CompetitionOpenSinceYear   844392 non-null  float64       \n",
      " 14  Promo2                     844392 non-null  int64         \n",
      " 15  Promo2SinceWeek            844392 non-null  float64       \n",
      " 16  Promo2SinceYear            844392 non-null  float64       \n",
      " 17  PromoInterval              844392 non-null  object        \n",
      " 18  Year                       844392 non-null  int64         \n",
      " 19  Month                      844392 non-null  int64         \n",
      " 20  Promo2info                 844392 non-null  int64         \n",
      "dtypes: datetime64[ns](1), float64(5), int64(12), object(3)\n",
      "memory usage: 141.7+ MB\n"
     ]
    }
   ],
   "source": [
    "train_original = train_original[train_original['Open']==1]\n",
    "train_original.info()"
   ]
  },
  {
   "cell_type": "code",
   "execution_count": 415,
   "id": "8cf71a26",
   "metadata": {
    "scrolled": true
   },
   "outputs": [
    {
     "name": "stdout",
     "output_type": "stream",
     "text": [
      "Index(['CompetitionDistance', 'CompetitionOpenSinceMonth',\n",
      "       'CompetitionOpenSinceYear', 'Promo2SinceWeek', 'Promo2SinceYear',\n",
      "       'PromoInterval'],\n",
      "      dtype='object')\n"
     ]
    }
   ],
   "source": [
    "# Check for columns with null values\n",
    "null_columns = train_original.columns[train_original.isnull().any()]\n",
    "print(null_columns)"
   ]
  },
  {
   "cell_type": "markdown",
   "id": "e2b737e9",
   "metadata": {},
   "source": [
    "- Null value of CompetitionDistance means that the store has no competition.\n",
    "- When the value of CompetitionDistance is NaN, the values of CompetitionOpenSinceMonth/Year are also NaN.\n",
    "\n",
    "- So, I try to indicate that competition is low by setting CompetitionDistance larger than the max value among the data I have.\n",
    "- And CompetitionOpenSinceMonth/Year is filled with 0 to mean that there is no competition."
   ]
  },
  {
   "cell_type": "code",
   "execution_count": 416,
   "id": "9c6d04ec",
   "metadata": {
    "scrolled": false
   },
   "outputs": [
    {
     "name": "stdout",
     "output_type": "stream",
     "text": [
      "<class 'pandas.core.frame.DataFrame'>\n",
      "Int64Index: 1017209 entries, 0 to 1017208\n",
      "Data columns (total 18 columns):\n",
      " #   Column                     Non-Null Count    Dtype  \n",
      "---  ------                     --------------    -----  \n",
      " 0   Store                      1017209 non-null  int64  \n",
      " 1   DayOfWeek                  1017209 non-null  int64  \n",
      " 2   Date                       1017209 non-null  object \n",
      " 3   Sales                      1017209 non-null  int64  \n",
      " 4   Customers                  1017209 non-null  int64  \n",
      " 5   Open                       1017209 non-null  int64  \n",
      " 6   Promo                      1017209 non-null  int64  \n",
      " 7   StateHoliday               1017209 non-null  object \n",
      " 8   SchoolHoliday              1017209 non-null  int64  \n",
      " 9   StoreType                  1017209 non-null  object \n",
      " 10  Assortment                 1017209 non-null  object \n",
      " 11  CompetitionDistance        1014567 non-null  float64\n",
      " 12  CompetitionOpenSinceMonth  1017209 non-null  float64\n",
      " 13  CompetitionOpenSinceYear   1017209 non-null  float64\n",
      " 14  Promo2                     1017209 non-null  int64  \n",
      " 15  Promo2SinceWeek            509178 non-null   float64\n",
      " 16  Promo2SinceYear            509178 non-null   float64\n",
      " 17  PromoInterval              509178 non-null   object \n",
      "dtypes: float64(5), int64(8), object(5)\n",
      "memory usage: 147.5+ MB\n"
     ]
    }
   ],
   "source": [
    "train_original['CompetitionOpenSinceMonth'].fillna(0, inplace=True)\n",
    "train_original['CompetitionOpenSinceYear'].fillna(0, inplace=True)\n",
    "\n",
    "# train_original['CompetitionDistance'].fillna(train_original['CompetitionDistance'].max()+1, inplace=True)\n",
    "train_original.info()"
   ]
  },
  {
   "cell_type": "code",
   "execution_count": 417,
   "id": "5ae3c961",
   "metadata": {
    "scrolled": false
   },
   "outputs": [
    {
     "name": "stdout",
     "output_type": "stream",
     "text": [
      "<class 'pandas.core.frame.DataFrame'>\n",
      "Int64Index: 1017209 entries, 0 to 1017208\n",
      "Data columns (total 18 columns):\n",
      " #   Column                     Non-Null Count    Dtype  \n",
      "---  ------                     --------------    -----  \n",
      " 0   Store                      1017209 non-null  int64  \n",
      " 1   DayOfWeek                  1017209 non-null  int64  \n",
      " 2   Date                       1017209 non-null  object \n",
      " 3   Sales                      1017209 non-null  int64  \n",
      " 4   Customers                  1017209 non-null  int64  \n",
      " 5   Open                       1017209 non-null  int64  \n",
      " 6   Promo                      1017209 non-null  int64  \n",
      " 7   StateHoliday               1017209 non-null  object \n",
      " 8   SchoolHoliday              1017209 non-null  int64  \n",
      " 9   StoreType                  1017209 non-null  object \n",
      " 10  Assortment                 1017209 non-null  object \n",
      " 11  CompetitionDistance        1014567 non-null  float64\n",
      " 12  CompetitionOpenSinceMonth  1017209 non-null  float64\n",
      " 13  CompetitionOpenSinceYear   1017209 non-null  float64\n",
      " 14  Promo2                     1017209 non-null  int64  \n",
      " 15  Promo2SinceWeek            1017209 non-null  float64\n",
      " 16  Promo2SinceYear            1017209 non-null  float64\n",
      " 17  PromoInterval              1017209 non-null  object \n",
      "dtypes: float64(5), int64(8), object(5)\n",
      "memory usage: 147.5+ MB\n"
     ]
    }
   ],
   "source": [
    "# if no promo has been made, then we should replace the NaN from Promo since Week and Year with zero\n",
    "train_original[\"Promo2SinceWeek\"].fillna(0, inplace = True)\n",
    "train_original[\"Promo2SinceYear\"].fillna(0, inplace = True)\n",
    "train_original[\"PromoInterval\"].fillna(0, inplace = True)\n",
    "train_original.info()"
   ]
  },
  {
   "cell_type": "code",
   "execution_count": 418,
   "id": "a0ba8f70",
   "metadata": {},
   "outputs": [
    {
     "data": {
      "text/plain": [
       "array(['0', 'a', 'b', 'c', 0], dtype=object)"
      ]
     },
     "execution_count": 418,
     "metadata": {},
     "output_type": "execute_result"
    }
   ],
   "source": [
    "train_original['StateHoliday'].unique()"
   ]
  },
  {
   "cell_type": "code",
   "execution_count": 419,
   "id": "62ad160c",
   "metadata": {},
   "outputs": [
    {
     "data": {
      "text/plain": [
       "array(['0', 'a', 'b', 'c'], dtype=object)"
      ]
     },
     "execution_count": 419,
     "metadata": {},
     "output_type": "execute_result"
    }
   ],
   "source": [
    "# Converting all 'StateHoliday' values to string type\n",
    "train_original['StateHoliday'] = train_original['StateHoliday'].astype(str)\n",
    "train_original['StateHoliday'].unique()"
   ]
  },
  {
   "cell_type": "code",
   "execution_count": 420,
   "id": "82335337",
   "metadata": {},
   "outputs": [],
   "source": [
    "# Change the type of StateHoliday value to int\n",
    "state_holiday_mapping = {'0': 0, 'a': 1, 'b': 2, 'c': 3}\n",
    "train_original['StateHoliday'] = train_original['StateHoliday'].replace(state_holiday_mapping)"
   ]
  },
  {
   "cell_type": "markdown",
   "id": "6d04379b",
   "metadata": {},
   "source": [
    "## (2) Add new variables (feature engineering)"
   ]
  },
  {
   "cell_type": "markdown",
   "id": "add69562",
   "metadata": {},
   "source": [
    "### (2) - 1. include variables generated using Promo2 and Promo2Interval"
   ]
  },
  {
   "cell_type": "markdown",
   "id": "115322d3",
   "metadata": {},
   "source": [
    "- The OngoingPromo2 variable : a Boolean value that indicates whether a Promo2 promotion is ongoing (True) or not (False) for a specific date. This is calculated taking into account the start date of Promo2, the cycle, and the year and month of that date."
   ]
  },
  {
   "cell_type": "code",
   "execution_count": 421,
   "id": "e168e471",
   "metadata": {},
   "outputs": [],
   "source": [
    "train_original['Date'] = pd.to_datetime(train_original['Date'])\n",
    "train_original['Year'] = train_original['Date'].dt.year\n",
    "train_original['Month'] = train_original['Date'].dt.month"
   ]
  },
  {
   "cell_type": "code",
   "execution_count": 422,
   "id": "1f102155",
   "metadata": {
    "scrolled": false
   },
   "outputs": [
    {
     "data": {
      "text/plain": [
       "array([0, 'Jan,Apr,Jul,Oct', 'Feb,May,Aug,Nov', 'Mar,Jun,Sept,Dec'],\n",
       "      dtype=object)"
      ]
     },
     "execution_count": 422,
     "metadata": {},
     "output_type": "execute_result"
    }
   ],
   "source": [
    "train_original['PromoInterval'].unique()"
   ]
  },
  {
   "cell_type": "code",
   "execution_count": 423,
   "id": "f8796c54",
   "metadata": {},
   "outputs": [],
   "source": [
    "Promo2info = []\n",
    "for idx in range(train_original.shape[0]):\n",
    "    row = train_original.iloc[idx]  # Get the row\n",
    "    promo_interval = row['PromoInterval']  # Extract PromoInterval value\n",
    "    current_month = row['Date'].month  # Extract month from Date value\n",
    "    \n",
    "    if isinstance(promo_interval, str):\n",
    "        if promo_interval.startswith('Jan'):\n",
    "            months = [1,4,7,10]\n",
    "        elif promo_interval.startswith('Feb'):\n",
    "            months = [2,5,8,11]\n",
    "        elif promo_interval.startswith('Mar'):\n",
    "            months = [3,6,9,12]\n",
    "        \n",
    "        Promo2info.append(2 if current_month in months else 1)\n",
    "    else:\n",
    "        Promo2info.append(0)\n"
   ]
  },
  {
   "cell_type": "code",
   "execution_count": 424,
   "id": "1da15a20",
   "metadata": {},
   "outputs": [
    {
     "name": "stdout",
     "output_type": "stream",
     "text": [
      "<class 'pandas.core.frame.DataFrame'>\n",
      "RangeIndex: 1017209 entries, 0 to 1017208\n",
      "Data columns (total 1 columns):\n",
      " #   Column      Non-Null Count    Dtype\n",
      "---  ------      --------------    -----\n",
      " 0   Promo2info  1017209 non-null  int64\n",
      "dtypes: int64(1)\n",
      "memory usage: 7.8 MB\n",
      "None\n",
      "[0 2 1]\n"
     ]
    }
   ],
   "source": [
    "Promo2info = pd.DataFrame(Promo2info, columns=['Promo2info'])\n",
    "print(Promo2info.info())\n",
    "print(Promo2info['Promo2info'].unique())"
   ]
  },
  {
   "cell_type": "code",
   "execution_count": 426,
   "id": "521b70bf",
   "metadata": {},
   "outputs": [],
   "source": [
    "train_original = train_original.join(Promo2info['Promo2info'])"
   ]
  },
  {
   "cell_type": "code",
   "execution_count": 430,
   "id": "f3454bdd",
   "metadata": {},
   "outputs": [
    {
     "name": "stdout",
     "output_type": "stream",
     "text": [
      "<class 'pandas.core.frame.DataFrame'>\n",
      "Int64Index: 844392 entries, 0 to 1017207\n",
      "Data columns (total 21 columns):\n",
      " #   Column                     Non-Null Count   Dtype         \n",
      "---  ------                     --------------   -----         \n",
      " 0   Store                      844392 non-null  int64         \n",
      " 1   DayOfWeek                  844392 non-null  int64         \n",
      " 2   Date                       844392 non-null  datetime64[ns]\n",
      " 3   Sales                      844392 non-null  int64         \n",
      " 4   Customers                  844392 non-null  int64         \n",
      " 5   Open                       844392 non-null  int64         \n",
      " 6   Promo                      844392 non-null  int64         \n",
      " 7   StateHoliday               844392 non-null  int64         \n",
      " 8   SchoolHoliday              844392 non-null  int64         \n",
      " 9   StoreType                  844392 non-null  object        \n",
      " 10  Assortment                 844392 non-null  object        \n",
      " 11  CompetitionDistance        842206 non-null  float64       \n",
      " 12  CompetitionOpenSinceMonth  844392 non-null  float64       \n",
      " 13  CompetitionOpenSinceYear   844392 non-null  float64       \n",
      " 14  Promo2                     844392 non-null  int64         \n",
      " 15  Promo2SinceWeek            844392 non-null  float64       \n",
      " 16  Promo2SinceYear            844392 non-null  float64       \n",
      " 17  PromoInterval              844392 non-null  object        \n",
      " 18  Year                       844392 non-null  int64         \n",
      " 19  Month                      844392 non-null  int64         \n",
      " 20  Promo2info                 844392 non-null  int64         \n",
      "dtypes: datetime64[ns](1), float64(5), int64(12), object(3)\n",
      "memory usage: 141.7+ MB\n"
     ]
    }
   ],
   "source": [
    "train_original.info()"
   ]
  },
  {
   "cell_type": "markdown",
   "id": "31f04bb1",
   "metadata": {},
   "source": [
    "### (2) - 2. Include variable(s) generated using CompetitionDistance"
   ]
  },
  {
   "cell_type": "code",
   "execution_count": 431,
   "id": "6214eb8e",
   "metadata": {
    "scrolled": true
   },
   "outputs": [],
   "source": [
    "max_distance = train_original['CompetitionDistance'].max()\n",
    "describe = train_original['CompetitionDistance'].describe()\n",
    "\n",
    "# Alternative NaN value to max value of CompetitionDistance + 1\n",
    "train_original['CompetitionDistance'].fillna(train_original['CompetitionDistance'].max()+1, inplace=True)\n",
    "\n",
    "bins = [0, describe['25%'], describe['50%'], describe['75%'], describe['max'], max_distance+1]\n",
    "labels = ['Very Close', 'Close', 'Far', 'Very Far', 'No Competition']\n",
    "train_original['DistanceCategory'] = pd.cut(train_original['CompetitionDistance'], bins=bins, labels=labels, include_lowest=True)\n",
    "\n",
    "distance_dummies = pd.get_dummies(train_original['DistanceCategory'], prefix='Distance')\n",
    "train_original = train_original.join(distance_dummies)\n",
    "\n",
    "train_original.drop(columns=['DistanceCategory'], inplace=True)"
   ]
  },
  {
   "cell_type": "code",
   "execution_count": 432,
   "id": "035d36af",
   "metadata": {},
   "outputs": [
    {
     "name": "stdout",
     "output_type": "stream",
     "text": [
      "<class 'pandas.core.frame.DataFrame'>\n",
      "Int64Index: 844392 entries, 0 to 1017207\n",
      "Data columns (total 26 columns):\n",
      " #   Column                     Non-Null Count   Dtype         \n",
      "---  ------                     --------------   -----         \n",
      " 0   Store                      844392 non-null  int64         \n",
      " 1   DayOfWeek                  844392 non-null  int64         \n",
      " 2   Date                       844392 non-null  datetime64[ns]\n",
      " 3   Sales                      844392 non-null  int64         \n",
      " 4   Customers                  844392 non-null  int64         \n",
      " 5   Open                       844392 non-null  int64         \n",
      " 6   Promo                      844392 non-null  int64         \n",
      " 7   StateHoliday               844392 non-null  int64         \n",
      " 8   SchoolHoliday              844392 non-null  int64         \n",
      " 9   StoreType                  844392 non-null  object        \n",
      " 10  Assortment                 844392 non-null  object        \n",
      " 11  CompetitionDistance        844392 non-null  float64       \n",
      " 12  CompetitionOpenSinceMonth  844392 non-null  float64       \n",
      " 13  CompetitionOpenSinceYear   844392 non-null  float64       \n",
      " 14  Promo2                     844392 non-null  int64         \n",
      " 15  Promo2SinceWeek            844392 non-null  float64       \n",
      " 16  Promo2SinceYear            844392 non-null  float64       \n",
      " 17  PromoInterval              844392 non-null  object        \n",
      " 18  Year                       844392 non-null  int64         \n",
      " 19  Month                      844392 non-null  int64         \n",
      " 20  Promo2info                 844392 non-null  int64         \n",
      " 21  Distance_Very Close        844392 non-null  uint8         \n",
      " 22  Distance_Close             844392 non-null  uint8         \n",
      " 23  Distance_Far               844392 non-null  uint8         \n",
      " 24  Distance_Very Far          844392 non-null  uint8         \n",
      " 25  Distance_No Competition    844392 non-null  uint8         \n",
      "dtypes: datetime64[ns](1), float64(5), int64(12), object(3), uint8(5)\n",
      "memory usage: 178.0+ MB\n"
     ]
    }
   ],
   "source": [
    "train_original.info()"
   ]
  },
  {
   "cell_type": "markdown",
   "id": "3f5ebb14",
   "metadata": {},
   "source": [
    "### (2) -3. Include variable(s) generated using CompetitionOpenSince[Month/Year]"
   ]
  },
  {
   "cell_type": "code",
   "execution_count": 433,
   "id": "4ad35807",
   "metadata": {
    "scrolled": true
   },
   "outputs": [
    {
     "name": "stdout",
     "output_type": "stream",
     "text": [
      "         CompetitionDistance  CompetitionOpenSinceMonth  \\\n",
      "0                     1270.0                        9.0   \n",
      "1                     1270.0                        9.0   \n",
      "2                     1270.0                        9.0   \n",
      "3                     1270.0                        9.0   \n",
      "4                     1270.0                        9.0   \n",
      "...                      ...                        ...   \n",
      "1017202               5350.0                        0.0   \n",
      "1017204               5350.0                        0.0   \n",
      "1017205               5350.0                        0.0   \n",
      "1017206               5350.0                        0.0   \n",
      "1017207               5350.0                        0.0   \n",
      "\n",
      "         CompetitionOpenSinceYear  HasCompetition  \n",
      "0                          2008.0               1  \n",
      "1                          2008.0               1  \n",
      "2                          2008.0               1  \n",
      "3                          2008.0               1  \n",
      "4                          2008.0               1  \n",
      "...                           ...             ...  \n",
      "1017202                       0.0               0  \n",
      "1017204                       0.0               0  \n",
      "1017205                       0.0               0  \n",
      "1017206                       0.0               0  \n",
      "1017207                       0.0               0  \n",
      "\n",
      "[844392 rows x 4 columns]\n"
     ]
    }
   ],
   "source": [
    "train_original['HasCompetition'] = 0\n",
    "condition = (train_original[\"CompetitionDistance\"].notnull()) & ((train_original['CompetitionDistance'] < train_original[\"Year\"]) | ((train_original['CompetitionOpenSinceYear'] == train_original[\"Year\"]) & (train_original[\"CompetitionOpenSinceMonth\"] <= train_original[\"Month\"])))\n",
    "train_original.loc[condition, 'HasCompetition'] = 1\n",
    "\n",
    "print(train_original[['CompetitionDistance', 'CompetitionOpenSinceMonth', 'CompetitionOpenSinceYear', 'HasCompetition']])"
   ]
  },
  {
   "cell_type": "code",
   "execution_count": 434,
   "id": "a2f93bc4",
   "metadata": {},
   "outputs": [
    {
     "name": "stdout",
     "output_type": "stream",
     "text": [
      "<class 'pandas.core.frame.DataFrame'>\n",
      "Int64Index: 844392 entries, 0 to 1017207\n",
      "Data columns (total 27 columns):\n",
      " #   Column                     Non-Null Count   Dtype         \n",
      "---  ------                     --------------   -----         \n",
      " 0   Store                      844392 non-null  int64         \n",
      " 1   DayOfWeek                  844392 non-null  int64         \n",
      " 2   Date                       844392 non-null  datetime64[ns]\n",
      " 3   Sales                      844392 non-null  int64         \n",
      " 4   Customers                  844392 non-null  int64         \n",
      " 5   Open                       844392 non-null  int64         \n",
      " 6   Promo                      844392 non-null  int64         \n",
      " 7   StateHoliday               844392 non-null  int64         \n",
      " 8   SchoolHoliday              844392 non-null  int64         \n",
      " 9   StoreType                  844392 non-null  object        \n",
      " 10  Assortment                 844392 non-null  object        \n",
      " 11  CompetitionDistance        844392 non-null  float64       \n",
      " 12  CompetitionOpenSinceMonth  844392 non-null  float64       \n",
      " 13  CompetitionOpenSinceYear   844392 non-null  float64       \n",
      " 14  Promo2                     844392 non-null  int64         \n",
      " 15  Promo2SinceWeek            844392 non-null  float64       \n",
      " 16  Promo2SinceYear            844392 non-null  float64       \n",
      " 17  PromoInterval              844392 non-null  object        \n",
      " 18  Year                       844392 non-null  int64         \n",
      " 19  Month                      844392 non-null  int64         \n",
      " 20  Promo2info                 844392 non-null  int64         \n",
      " 21  Distance_Very Close        844392 non-null  uint8         \n",
      " 22  Distance_Close             844392 non-null  uint8         \n",
      " 23  Distance_Far               844392 non-null  uint8         \n",
      " 24  Distance_Very Far          844392 non-null  uint8         \n",
      " 25  Distance_No Competition    844392 non-null  uint8         \n",
      " 26  HasCompetition             844392 non-null  int64         \n",
      "dtypes: datetime64[ns](1), float64(5), int64(13), object(3), uint8(5)\n",
      "memory usage: 184.4+ MB\n"
     ]
    }
   ],
   "source": [
    "train_original.info()"
   ]
  },
  {
   "cell_type": "markdown",
   "id": "89e9db2f",
   "metadata": {},
   "source": [
    "### (2) - 4. Include new variable(s) generated using historical sales or number of customers"
   ]
  },
  {
   "cell_type": "code",
   "execution_count": 435,
   "id": "d9773c8a",
   "metadata": {
    "scrolled": true
   },
   "outputs": [],
   "source": [
    "train_original['7DayAvgSales'] = train_original.sort_values(['Store', 'Date']).groupby('Store')['Sales'].transform(lambda x: x.rolling(window=7).mean().shift(1))"
   ]
  },
  {
   "cell_type": "code",
   "execution_count": 436,
   "id": "2522ba0a",
   "metadata": {},
   "outputs": [],
   "source": [
    "train_original['7DayAvgCustomers'] = train_original.sort_values(['Store', 'Date']).groupby('Store')['Customers'].transform(lambda x: x.rolling(window=7).mean().shift(1))"
   ]
  },
  {
   "cell_type": "code",
   "execution_count": 437,
   "id": "ee8a1e7b",
   "metadata": {},
   "outputs": [],
   "source": [
    "train_original = train_original.dropna(subset=['7DayAvgSales'])\n",
    "train_original = train_original.dropna(subset=['7DayAvgCustomers'])"
   ]
  },
  {
   "cell_type": "code",
   "execution_count": 438,
   "id": "1b580b9c",
   "metadata": {
    "scrolled": true
   },
   "outputs": [
    {
     "name": "stdout",
     "output_type": "stream",
     "text": [
      "<class 'pandas.core.frame.DataFrame'>\n",
      "Int64Index: 836587 entries, 0 to 1017199\n",
      "Data columns (total 29 columns):\n",
      " #   Column                     Non-Null Count   Dtype         \n",
      "---  ------                     --------------   -----         \n",
      " 0   Store                      836587 non-null  int64         \n",
      " 1   DayOfWeek                  836587 non-null  int64         \n",
      " 2   Date                       836587 non-null  datetime64[ns]\n",
      " 3   Sales                      836587 non-null  int64         \n",
      " 4   Customers                  836587 non-null  int64         \n",
      " 5   Open                       836587 non-null  int64         \n",
      " 6   Promo                      836587 non-null  int64         \n",
      " 7   StateHoliday               836587 non-null  int64         \n",
      " 8   SchoolHoliday              836587 non-null  int64         \n",
      " 9   StoreType                  836587 non-null  object        \n",
      " 10  Assortment                 836587 non-null  object        \n",
      " 11  CompetitionDistance        836587 non-null  float64       \n",
      " 12  CompetitionOpenSinceMonth  836587 non-null  float64       \n",
      " 13  CompetitionOpenSinceYear   836587 non-null  float64       \n",
      " 14  Promo2                     836587 non-null  int64         \n",
      " 15  Promo2SinceWeek            836587 non-null  float64       \n",
      " 16  Promo2SinceYear            836587 non-null  float64       \n",
      " 17  PromoInterval              836587 non-null  object        \n",
      " 18  Year                       836587 non-null  int64         \n",
      " 19  Month                      836587 non-null  int64         \n",
      " 20  Promo2info                 836587 non-null  int64         \n",
      " 21  Distance_Very Close        836587 non-null  uint8         \n",
      " 22  Distance_Close             836587 non-null  uint8         \n",
      " 23  Distance_Far               836587 non-null  uint8         \n",
      " 24  Distance_Very Far          836587 non-null  uint8         \n",
      " 25  Distance_No Competition    836587 non-null  uint8         \n",
      " 26  HasCompetition             836587 non-null  int64         \n",
      " 27  7DayAvgSales               836587 non-null  float64       \n",
      " 28  7DayAvgCustomers           836587 non-null  float64       \n",
      "dtypes: datetime64[ns](1), float64(7), int64(13), object(3), uint8(5)\n",
      "memory usage: 163.6+ MB\n"
     ]
    }
   ],
   "source": [
    "train_original.info()"
   ]
  },
  {
   "cell_type": "code",
   "execution_count": 439,
   "id": "fabca599",
   "metadata": {},
   "outputs": [],
   "source": [
    "# 'erform One-hot encoding \n",
    "store_type_dummies = pd.get_dummies(train_original['StoreType'], prefix='StoreType')\n",
    "assortment_dummies = pd.get_dummies(train_original['Assortment'], prefix='Assortment')\n",
    "\n",
    "train_original = train_original.join(store_type_dummies)\n",
    "train_original = train_original.join(assortment_dummies)\n",
    "\n",
    "train_original.drop(columns=['StoreType', 'Assortment'], inplace=True)\n"
   ]
  },
  {
   "cell_type": "code",
   "execution_count": 440,
   "id": "ec818215",
   "metadata": {},
   "outputs": [
    {
     "name": "stdout",
     "output_type": "stream",
     "text": [
      "<class 'pandas.core.frame.DataFrame'>\n",
      "Int64Index: 836587 entries, 0 to 1017199\n",
      "Data columns (total 34 columns):\n",
      " #   Column                     Non-Null Count   Dtype         \n",
      "---  ------                     --------------   -----         \n",
      " 0   Store                      836587 non-null  int64         \n",
      " 1   DayOfWeek                  836587 non-null  int64         \n",
      " 2   Date                       836587 non-null  datetime64[ns]\n",
      " 3   Sales                      836587 non-null  int64         \n",
      " 4   Customers                  836587 non-null  int64         \n",
      " 5   Open                       836587 non-null  int64         \n",
      " 6   Promo                      836587 non-null  int64         \n",
      " 7   StateHoliday               836587 non-null  int64         \n",
      " 8   SchoolHoliday              836587 non-null  int64         \n",
      " 9   CompetitionDistance        836587 non-null  float64       \n",
      " 10  CompetitionOpenSinceMonth  836587 non-null  float64       \n",
      " 11  CompetitionOpenSinceYear   836587 non-null  float64       \n",
      " 12  Promo2                     836587 non-null  int64         \n",
      " 13  Promo2SinceWeek            836587 non-null  float64       \n",
      " 14  Promo2SinceYear            836587 non-null  float64       \n",
      " 15  PromoInterval              836587 non-null  object        \n",
      " 16  Year                       836587 non-null  int64         \n",
      " 17  Month                      836587 non-null  int64         \n",
      " 18  Promo2info                 836587 non-null  int64         \n",
      " 19  Distance_Very Close        836587 non-null  uint8         \n",
      " 20  Distance_Close             836587 non-null  uint8         \n",
      " 21  Distance_Far               836587 non-null  uint8         \n",
      " 22  Distance_Very Far          836587 non-null  uint8         \n",
      " 23  Distance_No Competition    836587 non-null  uint8         \n",
      " 24  HasCompetition             836587 non-null  int64         \n",
      " 25  7DayAvgSales               836587 non-null  float64       \n",
      " 26  7DayAvgCustomers           836587 non-null  float64       \n",
      " 27  StoreType_a                836587 non-null  uint8         \n",
      " 28  StoreType_b                836587 non-null  uint8         \n",
      " 29  StoreType_c                836587 non-null  uint8         \n",
      " 30  StoreType_d                836587 non-null  uint8         \n",
      " 31  Assortment_a               836587 non-null  uint8         \n",
      " 32  Assortment_b               836587 non-null  uint8         \n",
      " 33  Assortment_c               836587 non-null  uint8         \n",
      "dtypes: datetime64[ns](1), float64(7), int64(13), object(1), uint8(12)\n",
      "memory usage: 188.6+ MB\n"
     ]
    }
   ],
   "source": [
    "train_original.info()"
   ]
  },
  {
   "cell_type": "markdown",
   "id": "04535c86",
   "metadata": {},
   "source": [
    "# (3) Split data\n",
    "\n",
    "- Training set: use samples in 2013 and 2014\n",
    "- Test set: use samples in 2015"
   ]
  },
  {
   "cell_type": "code",
   "execution_count": 441,
   "id": "f61286b5",
   "metadata": {
    "scrolled": true
   },
   "outputs": [
    {
     "name": "stdout",
     "output_type": "stream",
     "text": [
      "<class 'pandas.core.frame.DataFrame'>\n",
      "Int64Index: 836587 entries, 0 to 1017199\n",
      "Data columns (total 34 columns):\n",
      " #   Column                     Non-Null Count   Dtype         \n",
      "---  ------                     --------------   -----         \n",
      " 0   Store                      836587 non-null  int64         \n",
      " 1   DayOfWeek                  836587 non-null  int64         \n",
      " 2   Date                       836587 non-null  datetime64[ns]\n",
      " 3   Sales                      836587 non-null  int64         \n",
      " 4   Customers                  836587 non-null  int64         \n",
      " 5   Open                       836587 non-null  int64         \n",
      " 6   Promo                      836587 non-null  int64         \n",
      " 7   StateHoliday               836587 non-null  int64         \n",
      " 8   SchoolHoliday              836587 non-null  int64         \n",
      " 9   CompetitionDistance        836587 non-null  float64       \n",
      " 10  CompetitionOpenSinceMonth  836587 non-null  float64       \n",
      " 11  CompetitionOpenSinceYear   836587 non-null  float64       \n",
      " 12  Promo2                     836587 non-null  int64         \n",
      " 13  Promo2SinceWeek            836587 non-null  float64       \n",
      " 14  Promo2SinceYear            836587 non-null  float64       \n",
      " 15  PromoInterval              836587 non-null  object        \n",
      " 16  Year                       836587 non-null  int64         \n",
      " 17  Month                      836587 non-null  int64         \n",
      " 18  Promo2info                 836587 non-null  int64         \n",
      " 19  Distance_Very Close        836587 non-null  uint8         \n",
      " 20  Distance_Close             836587 non-null  uint8         \n",
      " 21  Distance_Far               836587 non-null  uint8         \n",
      " 22  Distance_Very Far          836587 non-null  uint8         \n",
      " 23  Distance_No Competition    836587 non-null  uint8         \n",
      " 24  HasCompetition             836587 non-null  int64         \n",
      " 25  7DayAvgSales               836587 non-null  float64       \n",
      " 26  7DayAvgCustomers           836587 non-null  float64       \n",
      " 27  StoreType_a                836587 non-null  uint8         \n",
      " 28  StoreType_b                836587 non-null  uint8         \n",
      " 29  StoreType_c                836587 non-null  uint8         \n",
      " 30  StoreType_d                836587 non-null  uint8         \n",
      " 31  Assortment_a               836587 non-null  uint8         \n",
      " 32  Assortment_b               836587 non-null  uint8         \n",
      " 33  Assortment_c               836587 non-null  uint8         \n",
      "dtypes: datetime64[ns](1), float64(7), int64(13), object(1), uint8(12)\n",
      "memory usage: 188.6+ MB\n"
     ]
    }
   ],
   "source": [
    "# Select Columns\n",
    "train_original.info()"
   ]
  },
  {
   "cell_type": "code",
   "execution_count": 449,
   "id": "f1e131df",
   "metadata": {},
   "outputs": [],
   "source": [
    "select_features = ['DayOfWeek', 'Promo', \n",
    "                   'StateHoliday', 'SchoolHoliday', \n",
    "                   'Promo2info', 'Distance_Very Close', \n",
    "                   'Distance_Close', 'Distance_Far', 'Distance_Very Far', \n",
    "                   'Distance_No Competition', 'HasCompetition', \n",
    "                   '7DayAvgSales', '7DayAvgCustomers','StoreType_a',\n",
    "                   'StoreType_b','StoreType_c','StoreType_d', \n",
    "                   'Assortment_a','Assortment_b','Assortment_c']\n",
    "target_feature = ['Sales']"
   ]
  },
  {
   "cell_type": "code",
   "execution_count": 450,
   "id": "dfc9f67f",
   "metadata": {},
   "outputs": [],
   "source": [
    "X_train = train_original[train_original['Year'].isin([2013, 2014])][select_features]\n",
    "X_test = train_original[train_original['Year'] == 2015][select_features]\n",
    "\n",
    "y_train = train_original[train_original['Year'].isin([2013, 2014])][target_feature]\n",
    "y_test = train_original[train_original['Year'] == 2015][target_feature]"
   ]
  },
  {
   "cell_type": "code",
   "execution_count": 451,
   "id": "7cf39bf2",
   "metadata": {
    "scrolled": false
   },
   "outputs": [
    {
     "name": "stdout",
     "output_type": "stream",
     "text": [
      "Optimizing for r2...\n"
     ]
    },
    {
     "name": "stderr",
     "output_type": "stream",
     "text": [
      "C:\\Users\\oosedus\\anaconda3\\lib\\site-packages\\sklearn\\linear_model\\_coordinate_descent.py:647: ConvergenceWarning: Objective did not converge. You might want to increase the number of iterations, check the scale of the features or consider increasing regularisation. Duality gap: 7.486e+11, tolerance: 5.366e+08\n",
      "  model = cd_fast.enet_coordinate_descent(\n",
      "C:\\Users\\oosedus\\anaconda3\\lib\\site-packages\\sklearn\\linear_model\\_coordinate_descent.py:647: ConvergenceWarning: Objective did not converge. You might want to increase the number of iterations, check the scale of the features or consider increasing regularisation. Duality gap: 7.066e+11, tolerance: 4.809e+08\n",
      "  model = cd_fast.enet_coordinate_descent(\n",
      "C:\\Users\\oosedus\\anaconda3\\lib\\site-packages\\sklearn\\linear_model\\_coordinate_descent.py:647: ConvergenceWarning: Objective did not converge. You might want to increase the number of iterations, check the scale of the features or consider increasing regularisation. Duality gap: 7.221e+11, tolerance: 4.859e+08\n",
      "  model = cd_fast.enet_coordinate_descent(\n",
      "C:\\Users\\oosedus\\anaconda3\\lib\\site-packages\\sklearn\\linear_model\\_coordinate_descent.py:647: ConvergenceWarning: Objective did not converge. You might want to increase the number of iterations, check the scale of the features or consider increasing regularisation. Duality gap: 7.203e+11, tolerance: 4.823e+08\n",
      "  model = cd_fast.enet_coordinate_descent(\n",
      "C:\\Users\\oosedus\\anaconda3\\lib\\site-packages\\sklearn\\linear_model\\_coordinate_descent.py:647: ConvergenceWarning: Objective did not converge. You might want to increase the number of iterations, check the scale of the features or consider increasing regularisation. Duality gap: 7.286e+11, tolerance: 5.140e+08\n",
      "  model = cd_fast.enet_coordinate_descent(\n"
     ]
    },
    {
     "name": "stdout",
     "output_type": "stream",
     "text": [
      "Optimizing for neg_mean_squared_error...\n"
     ]
    },
    {
     "name": "stderr",
     "output_type": "stream",
     "text": [
      "C:\\Users\\oosedus\\anaconda3\\lib\\site-packages\\sklearn\\linear_model\\_coordinate_descent.py:647: ConvergenceWarning: Objective did not converge. You might want to increase the number of iterations, check the scale of the features or consider increasing regularisation. Duality gap: 7.486e+11, tolerance: 5.366e+08\n",
      "  model = cd_fast.enet_coordinate_descent(\n",
      "C:\\Users\\oosedus\\anaconda3\\lib\\site-packages\\sklearn\\linear_model\\_coordinate_descent.py:647: ConvergenceWarning: Objective did not converge. You might want to increase the number of iterations, check the scale of the features or consider increasing regularisation. Duality gap: 7.066e+11, tolerance: 4.809e+08\n",
      "  model = cd_fast.enet_coordinate_descent(\n",
      "C:\\Users\\oosedus\\anaconda3\\lib\\site-packages\\sklearn\\linear_model\\_coordinate_descent.py:647: ConvergenceWarning: Objective did not converge. You might want to increase the number of iterations, check the scale of the features or consider increasing regularisation. Duality gap: 7.221e+11, tolerance: 4.859e+08\n",
      "  model = cd_fast.enet_coordinate_descent(\n",
      "C:\\Users\\oosedus\\anaconda3\\lib\\site-packages\\sklearn\\linear_model\\_coordinate_descent.py:647: ConvergenceWarning: Objective did not converge. You might want to increase the number of iterations, check the scale of the features or consider increasing regularisation. Duality gap: 7.203e+11, tolerance: 4.823e+08\n",
      "  model = cd_fast.enet_coordinate_descent(\n",
      "C:\\Users\\oosedus\\anaconda3\\lib\\site-packages\\sklearn\\linear_model\\_coordinate_descent.py:647: ConvergenceWarning: Objective did not converge. You might want to increase the number of iterations, check the scale of the features or consider increasing regularisation. Duality gap: 7.286e+11, tolerance: 5.140e+08\n",
      "  model = cd_fast.enet_coordinate_descent(\n"
     ]
    },
    {
     "name": "stdout",
     "output_type": "stream",
     "text": [
      "Optimizing for neg_mean_absolute_error...\n"
     ]
    },
    {
     "name": "stderr",
     "output_type": "stream",
     "text": [
      "C:\\Users\\oosedus\\anaconda3\\lib\\site-packages\\sklearn\\linear_model\\_coordinate_descent.py:647: ConvergenceWarning: Objective did not converge. You might want to increase the number of iterations, check the scale of the features or consider increasing regularisation. Duality gap: 7.486e+11, tolerance: 5.366e+08\n",
      "  model = cd_fast.enet_coordinate_descent(\n",
      "C:\\Users\\oosedus\\anaconda3\\lib\\site-packages\\sklearn\\linear_model\\_coordinate_descent.py:647: ConvergenceWarning: Objective did not converge. You might want to increase the number of iterations, check the scale of the features or consider increasing regularisation. Duality gap: 7.066e+11, tolerance: 4.809e+08\n",
      "  model = cd_fast.enet_coordinate_descent(\n",
      "C:\\Users\\oosedus\\anaconda3\\lib\\site-packages\\sklearn\\linear_model\\_coordinate_descent.py:647: ConvergenceWarning: Objective did not converge. You might want to increase the number of iterations, check the scale of the features or consider increasing regularisation. Duality gap: 7.221e+11, tolerance: 4.859e+08\n",
      "  model = cd_fast.enet_coordinate_descent(\n",
      "C:\\Users\\oosedus\\anaconda3\\lib\\site-packages\\sklearn\\linear_model\\_coordinate_descent.py:647: ConvergenceWarning: Objective did not converge. You might want to increase the number of iterations, check the scale of the features or consider increasing regularisation. Duality gap: 7.203e+11, tolerance: 4.823e+08\n",
      "  model = cd_fast.enet_coordinate_descent(\n",
      "C:\\Users\\oosedus\\anaconda3\\lib\\site-packages\\sklearn\\linear_model\\_coordinate_descent.py:647: ConvergenceWarning: Objective did not converge. You might want to increase the number of iterations, check the scale of the features or consider increasing regularisation. Duality gap: 7.286e+11, tolerance: 5.140e+08\n",
      "  model = cd_fast.enet_coordinate_descent(\n"
     ]
    },
    {
     "name": "stdout",
     "output_type": "stream",
     "text": [
      "{('Ridge', 'r2'): {'ridge__alpha': 20}, ('Lasso', 'r2'): {'lasso__alpha': 1}, ('Ridge', 'neg_mean_squared_error'): {'ridge__alpha': 1e-15}, ('Lasso', 'neg_mean_squared_error'): {'lasso__alpha': 5}, ('Ridge', 'neg_mean_absolute_error'): {'ridge__alpha': 20}, ('Lasso', 'neg_mean_absolute_error'): {'lasso__alpha': 20}}\n"
     ]
    }
   ],
   "source": [
    "from sklearn.pipeline import Pipeline\n",
    "from sklearn.preprocessing import StandardScaler\n",
    "from sklearn.linear_model import Ridge, Lasso\n",
    "from sklearn.model_selection import GridSearchCV, cross_val_score\n",
    "from sklearn.metrics import mean_squared_error, r2_score, mean_absolute_error\n",
    "\n",
    "# Creating Pipelines\n",
    "ridge_pipe = Pipeline([\n",
    "    (\"scaler\", StandardScaler()),\n",
    "    (\"ridge\", Ridge())\n",
    "])\n",
    "\n",
    "lasso_pipe = Pipeline([\n",
    "    (\"scaler\", StandardScaler()),\n",
    "    (\"lasso\", Lasso())\n",
    "])\n",
    "\n",
    "# Defining parameter grids\n",
    "ridge_param_grid = {'ridge__alpha': [1e-15, 1e-10, 1e-8, 1e-4, 1e-3, 1e-2, 1, 5, 10, 20]}\n",
    "lasso_param_grid = {'lasso__alpha': [1e-15, 1e-10, 1e-8, 1e-4, 1e-3, 1e-2, 1, 5, 10, 20]}\n",
    "\n",
    "# Evaluation metrics list\n",
    "metrics = ['r2', 'neg_mean_squared_error', 'neg_mean_absolute_error']\n",
    "\n",
    "# Best params for each metric\n",
    "best_params = {}\n",
    "\n",
    "for metric in metrics:\n",
    "    print(f\"Optimizing for {metric}...\")\n",
    "\n",
    "    # Grid Search with Cross Validation\n",
    "    ridge_grid = GridSearchCV(ridge_pipe, ridge_param_grid, cv=5, scoring=metric)\n",
    "    lasso_grid = GridSearchCV(lasso_pipe, lasso_param_grid, cv=5, scoring=metric)\n",
    "\n",
    "    # Fitting models\n",
    "    ridge_grid.fit(X_train, y_train)\n",
    "    lasso_grid.fit(X_train, y_train)\n",
    "\n",
    "    # Store best params for each model and metric\n",
    "    best_params[(Ridge.__name__, metric)] = ridge_grid.best_params_\n",
    "    best_params[(Lasso.__name__, metric)] = lasso_grid.best_params_\n",
    "\n",
    "print(best_params)\n"
   ]
  },
  {
   "cell_type": "code",
   "execution_count": 465,
   "id": "5d09a4f0",
   "metadata": {},
   "outputs": [
    {
     "name": "stdout",
     "output_type": "stream",
     "text": [
      "Processing Ridge with r2...\n",
      "Processing Lasso with r2...\n",
      "Processing Ridge with neg_mean_squared_error...\n",
      "Processing Lasso with neg_mean_squared_error...\n",
      "Processing Ridge with neg_mean_absolute_error...\n",
      "Processing Lasso with neg_mean_absolute_error...\n",
      "Test Results\n",
      "   Model Metric           Score              Best Params\n",
      "0  Ridge     R2       0.7152808     {'ridge__alpha': 20}\n",
      "1  Lasso     R2       0.7153167      {'lasso__alpha': 1}\n",
      "2  Ridge    MSE 2621281.2231031  {'ridge__alpha': 1e-15}\n",
      "3  Lasso    MSE 2620121.6890320      {'lasso__alpha': 5}\n",
      "4  Ridge    MAE    1188.6761717     {'ridge__alpha': 20}\n",
      "5  Lasso    MAE    1186.4417330     {'lasso__alpha': 20}\n",
      "Train Results\n",
      "   Model Metric           Score              Best Params\n",
      "0  Ridge     R2       0.7084017     {'ridge__alpha': 20}\n",
      "1  Lasso     R2       0.7083994      {'lasso__alpha': 1}\n",
      "2  Ridge    MSE 2845188.7754513  {'ridge__alpha': 1e-15}\n",
      "3  Lasso    MSE 2845631.7636306      {'lasso__alpha': 5}\n",
      "4  Ridge    MAE    1218.0276950     {'ridge__alpha': 20}\n",
      "5  Lasso    MAE    1215.9217278     {'lasso__alpha': 20}\n"
     ]
    }
   ],
   "source": [
    "from pandas import DataFrame\n",
    "\n",
    "# Prepare dataframes to store results\n",
    "results_test = []\n",
    "results_train = []\n",
    "\n",
    "# For each model and metric, retrain and evaluate\n",
    "for (model_name, metric), params in best_params.items():\n",
    "    print(f\"Processing {model_name} with {metric}...\")\n",
    "\n",
    "    # Select the right model pipeline based on the name\n",
    "    if model_name == 'Ridge':\n",
    "        pipe = ridge_pipe\n",
    "    elif model_name == 'Lasso':\n",
    "        pipe = lasso_pipe\n",
    "\n",
    "    # Update the hyperparameters of the selected pipeline\n",
    "    for param, value in params.items():\n",
    "        pipe.set_params(**{param: value})\n",
    "\n",
    "    # Retrain with all training data\n",
    "    pipe.fit(X_train, y_train)\n",
    "\n",
    "    # Predict on test set and train set \n",
    "    preds_test = pipe.predict(X_test)\n",
    "    preds_train = pipe.predict(X_train)\n",
    "\n",
    "    # Evaluate performance based on metric used during optimization \n",
    "    if metric == 'r2':\n",
    "        score_test = r2_score(y_test, preds_test)\n",
    "        score_train= r2_score(y_train,preds_train)\n",
    "        results_test.append([model_name,'R2',score_test,params])\n",
    "        results_train.append([model_name,'R2',score_train,params])  \n",
    "    elif metric == 'neg_mean_squared_error':\n",
    "        score_mse_test= mean_squared_error(y_test,preds_test)\n",
    "        score_mse_train= mean_squared_error(y_train,preds_train)\n",
    "        results_test.append([model_name,'MSE',score_mse_test,params])\n",
    "        results_train.append([model_name,'MSE',score_mse_train,params])\n",
    "    elif metric =='neg_mean_absolute_error':\n",
    "        score_mae_test=mean_absolute_error(y_test,preds_test)\n",
    "        score_mae_train=mean_absolute_error(y_train,preds_train)\n",
    "        results_test.append([model_name,'MAE',score_mae_test, params]) \n",
    "        results_train.append([model_name,'MAE',score_mae_train,params]) \n",
    "\n",
    "result_df_test = DataFrame(results_test, columns=['Model', 'Metric', 'Score','Best Params'])\n",
    "result_df_train = DataFrame(results_train, columns=['Model', 'Metric', 'Score','Best Params'])\n",
    "pd.set_option('display.float_format', lambda x: '%.7f' % x)\n",
    "print(\"Test Results\")\n",
    "print(result_df_test) \n",
    "print(\"Train Results\")\n",
    "print(result_df_train) \n",
    "  "
   ]
  }
 ],
 "metadata": {
  "kernelspec": {
   "display_name": "Python 3 (ipykernel)",
   "language": "python",
   "name": "python3"
  },
  "language_info": {
   "codemirror_mode": {
    "name": "ipython",
    "version": 3
   },
   "file_extension": ".py",
   "mimetype": "text/x-python",
   "name": "python",
   "nbconvert_exporter": "python",
   "pygments_lexer": "ipython3",
   "version": "3.9.12"
  }
 },
 "nbformat": 4,
 "nbformat_minor": 5
}
